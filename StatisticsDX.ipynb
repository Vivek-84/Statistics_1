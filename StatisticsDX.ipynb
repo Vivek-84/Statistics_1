{
 "cells": [
  {
   "cell_type": "markdown",
   "id": "ac64085d",
   "metadata": {},
   "source": [
    "# What is Statistics?"
   ]
  },
  {
   "cell_type": "code",
   "execution_count": 2,
   "id": "edda6f86",
   "metadata": {},
   "outputs": [],
   "source": [
    "# Statistics is a branch of applied mathematics that involves the collection, description, analysis, and inference of \n",
    "# conclusions from quantitative data. The mathematical theories behind statistics rely heavily on differential and integral\n",
    "# calculus, linear algebra, and probability theory.\n",
    "\n"
   ]
  },
  {
   "cell_type": "markdown",
   "id": "1425c24f",
   "metadata": {},
   "source": [
    "#  Define the different types of statistics and give an example of when each type might be used."
   ]
  },
  {
   "cell_type": "code",
   "execution_count": 11,
   "id": "7b20409f",
   "metadata": {},
   "outputs": [],
   "source": [
    "# The two major areas of statistics are known as descriptive statistics, which describes the properties of sample and population\n",
    "# data, and inferential statistics, which uses those properties to test hypotheses and draw conclusions. Descriptive statistics\n",
    "# include mean (average), variance, skewness, and kurtosis.\n",
    "\n",
    "#Descriptive Statistics:\n",
    "# It consist of organising and Summarising of Data.\n",
    "# Measure of central tendency Mean ,Median ,Mode.\n",
    "# Measure of Dispersion[Varience, Sets].\n",
    "# Different type of distribution of data like Hiftogram, pdf ,pmf.\n",
    "\n",
    "\n",
    "\n",
    "#Inferential Statistics: In the Inferential Statistics, we try to interpret the Meaning of descriptive Statistics. After the\n",
    "#Data has been collected, analyzed, and summarised we use Inferential Statistics to describe the Meaning of the collected Data\n",
    "# Inferential Statistics are used to draw conclusions and inferences, i.e. to make valid generalizations from samples.\n",
    "    "
   ]
  },
  {
   "cell_type": "code",
   "execution_count": 5,
   "id": "6be49336",
   "metadata": {},
   "outputs": [
    {
     "data": {
      "text/html": [
       "<div>\n",
       "<style scoped>\n",
       "    .dataframe tbody tr th:only-of-type {\n",
       "        vertical-align: middle;\n",
       "    }\n",
       "\n",
       "    .dataframe tbody tr th {\n",
       "        vertical-align: top;\n",
       "    }\n",
       "\n",
       "    .dataframe thead th {\n",
       "        text-align: right;\n",
       "    }\n",
       "</style>\n",
       "<table border=\"1\" class=\"dataframe\">\n",
       "  <thead>\n",
       "    <tr style=\"text-align: right;\">\n",
       "      <th></th>\n",
       "      <th>total_bill</th>\n",
       "      <th>tip</th>\n",
       "      <th>sex</th>\n",
       "      <th>smoker</th>\n",
       "      <th>day</th>\n",
       "      <th>time</th>\n",
       "      <th>size</th>\n",
       "    </tr>\n",
       "  </thead>\n",
       "  <tbody>\n",
       "    <tr>\n",
       "      <th>0</th>\n",
       "      <td>16.99</td>\n",
       "      <td>1.01</td>\n",
       "      <td>Female</td>\n",
       "      <td>No</td>\n",
       "      <td>Sun</td>\n",
       "      <td>Dinner</td>\n",
       "      <td>2</td>\n",
       "    </tr>\n",
       "    <tr>\n",
       "      <th>1</th>\n",
       "      <td>10.34</td>\n",
       "      <td>1.66</td>\n",
       "      <td>Male</td>\n",
       "      <td>No</td>\n",
       "      <td>Sun</td>\n",
       "      <td>Dinner</td>\n",
       "      <td>3</td>\n",
       "    </tr>\n",
       "    <tr>\n",
       "      <th>2</th>\n",
       "      <td>21.01</td>\n",
       "      <td>3.50</td>\n",
       "      <td>Male</td>\n",
       "      <td>No</td>\n",
       "      <td>Sun</td>\n",
       "      <td>Dinner</td>\n",
       "      <td>3</td>\n",
       "    </tr>\n",
       "    <tr>\n",
       "      <th>3</th>\n",
       "      <td>23.68</td>\n",
       "      <td>3.31</td>\n",
       "      <td>Male</td>\n",
       "      <td>No</td>\n",
       "      <td>Sun</td>\n",
       "      <td>Dinner</td>\n",
       "      <td>2</td>\n",
       "    </tr>\n",
       "    <tr>\n",
       "      <th>4</th>\n",
       "      <td>24.59</td>\n",
       "      <td>3.61</td>\n",
       "      <td>Female</td>\n",
       "      <td>No</td>\n",
       "      <td>Sun</td>\n",
       "      <td>Dinner</td>\n",
       "      <td>4</td>\n",
       "    </tr>\n",
       "  </tbody>\n",
       "</table>\n",
       "</div>"
      ],
      "text/plain": [
       "   total_bill   tip     sex smoker  day    time  size\n",
       "0       16.99  1.01  Female     No  Sun  Dinner     2\n",
       "1       10.34  1.66    Male     No  Sun  Dinner     3\n",
       "2       21.01  3.50    Male     No  Sun  Dinner     3\n",
       "3       23.68  3.31    Male     No  Sun  Dinner     2\n",
       "4       24.59  3.61  Female     No  Sun  Dinner     4"
      ]
     },
     "execution_count": 5,
     "metadata": {},
     "output_type": "execute_result"
    }
   ],
   "source": [
    "#Descriptive Statistics's example:\n",
    "import seaborn as sns\n",
    "df=sns.load_dataset('tips')\n",
    "df.head()"
   ]
  },
  {
   "cell_type": "code",
   "execution_count": 8,
   "id": "3a76282c",
   "metadata": {},
   "outputs": [
    {
     "data": {
      "text/plain": [
       "2.569672131147541"
      ]
     },
     "execution_count": 8,
     "metadata": {},
     "output_type": "execute_result"
    }
   ],
   "source": [
    "#Mean or Average: Sum of observations upon number of observation.\n",
    "#Mean=∑xn/n\n",
    "df['size'].mean()"
   ]
  },
  {
   "cell_type": "code",
   "execution_count": 9,
   "id": "495f9d8b",
   "metadata": {},
   "outputs": [
    {
     "data": {
      "text/plain": [
       "2.0"
      ]
     },
     "execution_count": 9,
     "metadata": {},
     "output_type": "execute_result"
    }
   ],
   "source": [
    "#Median: It is the middle most of observations on sorting.\n",
    "df['size'].median()"
   ]
  },
  {
   "cell_type": "code",
   "execution_count": 10,
   "id": "ec3e82d6",
   "metadata": {},
   "outputs": [
    {
     "data": {
      "text/plain": [
       "0    Male\n",
       "Name: sex, dtype: category\n",
       "Categories (2, object): ['Male', 'Female']"
      ]
     },
     "execution_count": 10,
     "metadata": {},
     "output_type": "execute_result"
    }
   ],
   "source": [
    "#Mode: It is the highest frquency of a element in datasets.\n",
    "df['sex'].mode()"
   ]
  },
  {
   "cell_type": "code",
   "execution_count": 13,
   "id": "732e34b1",
   "metadata": {},
   "outputs": [
    {
     "data": {
      "text/plain": [
       "1.914454638062471"
      ]
     },
     "execution_count": 13,
     "metadata": {},
     "output_type": "execute_result"
    }
   ],
   "source": [
    "#Measure of Dispersion(spread of data):\n",
    "#1.Varience\n",
    "#i) Population Varience:\n",
    "#ii) Sample Varience:\n",
    "df['tip'].var()\n",
    "  "
   ]
  },
  {
   "cell_type": "code",
   "execution_count": 14,
   "id": "83c164aa",
   "metadata": {},
   "outputs": [
    {
     "data": {
      "text/plain": [
       "1.3836381890011822"
      ]
     },
     "execution_count": 14,
     "metadata": {},
     "output_type": "execute_result"
    }
   ],
   "source": [
    "df['tip'].std()"
   ]
  },
  {
   "cell_type": "code",
   "execution_count": 15,
   "id": "8bc8442c",
   "metadata": {},
   "outputs": [
    {
     "data": {
      "text/plain": [
       "53.010000000000005"
      ]
     },
     "execution_count": 15,
     "metadata": {},
     "output_type": "execute_result"
    }
   ],
   "source": [
    "x= [11,23,33,14,25,23,25,28,11,14]\n",
    "import numpy as np\n",
    "np.var(x)\n"
   ]
  },
  {
   "cell_type": "code",
   "execution_count": 16,
   "id": "f9568c22",
   "metadata": {},
   "outputs": [
    {
     "data": {
      "text/plain": [
       "7.280796659706959"
      ]
     },
     "execution_count": 16,
     "metadata": {},
     "output_type": "execute_result"
    }
   ],
   "source": [
    "np.std(x)"
   ]
  },
  {
   "cell_type": "markdown",
   "id": "b075cb53",
   "metadata": {},
   "source": [
    "#  What are the different types of data and how do they differ from each other? Provide an example of each type of data.\n"
   ]
  },
  {
   "cell_type": "code",
   "execution_count": 18,
   "id": "d122a5e2",
   "metadata": {},
   "outputs": [],
   "source": [
    "#Tytpes of data \n",
    "#1. Qualitative or Catogerical data: a) Nominal data   b) Ordinal data\n",
    "#2. Quantitative data: a) Discreate data  b) Continuous data\n",
    "#Nominal Data: Nominal Data is used to label variables without any order or quantitative value. The color of hair can be\n",
    "#considered nominal data, as one color can’t be compared with another color.\n",
    "#The name “nominal” comes from the Latin name “nomen,” which means “name.” With the help of nominal data, we \n",
    "# can’t do any numerical tasks or can’t give any order to sort the data. These data don’t have any meaningful order; their \n",
    "#values are distributed into distinct categories.\n",
    "# examples of Nominal data:\n",
    "\n",
    "# Colour of hair (Blonde, red, Brown, Black, etc.)\n",
    "# Marital status (Single, Widowed, Married)\n",
    "# Nationality (Indian, German, American)\n",
    "# Gender (Male, Female, Others)\n",
    "# Eye Color (Black, Brown, etc.)\n",
    "\n",
    "#Ordinal data: Ordinal data have natural ordering where a number is present in some kind of order by their position on the\n",
    "# scale. These data are used for observation like customer satisfaction, happiness, etc., but we can’t do any arithmetical\n",
    "# tasks on them. These kinds of data can be considered “in-between” qualitative and quantitative data. The ordinal data only \n",
    "# shows the sequences and cannot use for statistical analysis. Compared to nominal data, ordinal data have some kind of order\n",
    "# that is not present in nominal data.  \n",
    "\n",
    "#examples of Nominal data:\n",
    "# When companies ask for feedback, experience, or satisfaction on a scale of 1 to 10\n",
    "# Letter grades in the exam (A, B, C, D, etc.)\n",
    "# Ranking of people in a competition (First, Second, Third, etc.)\n",
    "# Economic Status (High, Medium, and Low)\n",
    "# Education Level (Higher, Secondary, Primary)\n",
    "\n",
    "# Discreate data:\n",
    "# The discrete data contain the values that fall under integers or whole numbers. The total number of students in a class is an\n",
    "# example of discrete data. The discrete data are countable and have finite values; their subdivision is not possible. These\n",
    "#data are represented mainly by a bar graph, number line, or frequency table.\n",
    "#examples:\n",
    "# Total numbers of students present in a class\n",
    "# Cost of a cell phone\n",
    "# Numbers of employees in a company\n",
    "# The total number of players who participated in a competition\n",
    "# Days in a week\n",
    "\n",
    "#Continuous data:\n",
    "# Continuous data are in the form of fractional numbers. It can be the version of an android phone, the height of a person, the\n",
    "# length of an object, etc. Continuous data represents information that can be divided into smaller levels. The continuous\n",
    "# variable can take any value within a range. \n",
    "#examples:\n",
    "# Height of a person\n",
    "# Speed of a vehicle\n",
    "# “Time-taken” to finish the work \n",
    "# Wi-Fi Frequency\n",
    "# Market share price\n",
    "\n",
    "# The key difference between discrete and continuous data is that discrete data contains the integer or whole number. Still, \n",
    "# continuous data stores the fractional numbers to record different types of data such as temperature, height, width, time,\n",
    "# speed, etc.\n"
   ]
  },
  {
   "cell_type": "markdown",
   "id": "dfd0f614",
   "metadata": {},
   "source": [
    "# Categorise the following datasets with respect to quantitative and qualitative data types:"
   ]
  },
  {
   "cell_type": "code",
   "execution_count": 19,
   "id": "54f1243e",
   "metadata": {},
   "outputs": [],
   "source": [
    "#\tGrading in exam: A+, A, B+, B, C+, C, D, E : Qualitative ( Ordinal dataset)"
   ]
  },
  {
   "cell_type": "code",
   "execution_count": 20,
   "id": "91afdd0c",
   "metadata": {},
   "outputs": [],
   "source": [
    "# \tColour of mangoes: yellow, green, orange, red : Qualitative(Nominal dataset)"
   ]
  },
  {
   "cell_type": "code",
   "execution_count": 21,
   "id": "66109f7b",
   "metadata": {},
   "outputs": [],
   "source": [
    "#Height data of a class: [178.9, 179, 179.5, 176, 177.2, 178.3, 175.8,...] : Quantitative(Continuous)"
   ]
  },
  {
   "cell_type": "code",
   "execution_count": 22,
   "id": "4de35c52",
   "metadata": {},
   "outputs": [],
   "source": [
    "#\tNumber of mangoes exported by a farm: [500, 600, 478, 672, …] : Quantitative(Descreate)"
   ]
  },
  {
   "cell_type": "markdown",
   "id": "a374ca55",
   "metadata": {},
   "source": [
    "#  Explain the concept of levels of measurement and give an example of a variable for each level"
   ]
  },
  {
   "cell_type": "code",
   "execution_count": 24,
   "id": "7ce22f93",
   "metadata": {},
   "outputs": [],
   "source": [
    "# Statisticians often refer to the \"levels of measurement\" of a variable, a measure, or a scale to distinguish between measured\n",
    "# variables that have different properties. There are four basic levels: nominal, ordinal, interval, and ratio.\n",
    "# Nominal: the data can only be categorized\n",
    "# eg: City of birth, Gender, Ethnicity, Car brands, Marital status\n",
    "\n",
    "# Ordinal: the data can be categorized and ranked\n",
    "# eg: Top 10 Movies, Language ability (e.g., beginner, intermediate, fluent).\n",
    "# Interval: the data can be categorized, ranked, and evenly spaced\n",
    "#Test scores (e.g., IQ or exams), Personality inventories, Temperature in Fahrenheit or Celsius\n",
    "# Ratio: the data can be categorized, ranked, evenly spaced, and has a natural zero. \n",
    "#Height,Age,Weight,Temperature in Kelvin"
   ]
  },
  {
   "cell_type": "markdown",
   "id": "a4aee415",
   "metadata": {},
   "source": [
    "# Why is it important to understand the level of measurement when analyzing data? Provide an example to illustrate your answer\n"
   ]
  },
  {
   "cell_type": "code",
   "execution_count": 25,
   "id": "9e56779c",
   "metadata": {},
   "outputs": [],
   "source": [
    "# It is important to understand the level of measurement of variables in research, because the level of measurement determines\n",
    "# the type of statistical analysis that can be conducted, and, therefore, the type of conclusions that can be drawn from the\n",
    "# research.\n",
    "\n",
    "# When measuring the temperature, the difference between 85 degrees and 90 degrees is the same as the difference between 65\n",
    "# degrees and 70 degrees. This difference gives you an interval of five, which means no matter where in your ordered data you\n",
    "# take an interval measure, it remains the same between the various data"
   ]
  },
  {
   "cell_type": "markdown",
   "id": "7af0340a",
   "metadata": {},
   "source": [
    "#  How nominal data type is different from ordinal data type"
   ]
  },
  {
   "cell_type": "code",
   "execution_count": 26,
   "id": "80773e46",
   "metadata": {},
   "outputs": [],
   "source": [
    "# NOminal Data Vs Ordinal Data\n",
    "#Nominal Data:\n",
    "# Nominal data can’t be quantified, neither they have any intrinsic ordering.\n",
    "# Nominal data is qualitative data or categorical data\n",
    "# They don’t provide any quantitative value, neither can we perform any arithmetical operation\n",
    "# Nominal data cannot be used to compare with one another\n",
    "# Examples: Eye color, housing style, gender, hair color, religion, marital status, ethnicity, etc\n",
    "\n",
    "#Ordinal Data:\n",
    "# Ordinal data gives some kind of sequential order by their position on the scale\n",
    "# Ordinal data is said to be “in-between” qualitative data and quantitative data\n",
    "# They provide sequence and can assign numbers to ordinal data but cannot perform the arithmetical operation\n",
    "# Ordinal data can help to compare one item with another by ranking or ordering\n",
    "# Examples: Economic status, customer satisfaction, education level, letter grades, etc "
   ]
  },
  {
   "cell_type": "markdown",
   "id": "7857d6bb",
   "metadata": {},
   "source": [
    "#  Which type of plot can be used to display data in terms of range"
   ]
  },
  {
   "cell_type": "code",
   "execution_count": 27,
   "id": "0c67dc66",
   "metadata": {},
   "outputs": [],
   "source": [
    "# Histogram. If the groups depicted in a bar chart are actually continuous numeric ranges, we can push the bars together to\n",
    "# generate a histogram. Bar lengths in histograms typically correspond to counts of data points, and their patterns demonstrate\n",
    "# the distribution of variables in your data.\n",
    "\n",
    "# A histogram is a type of chart that shows the frequency distribution of data points across a continuous range of numerical \n",
    "# values. The values are grouped into bin or buckets that are arranged in consecutive order along the horizontal x-axis at the\n",
    "# bottom of the chart."
   ]
  },
  {
   "cell_type": "markdown",
   "id": "2b5d5824",
   "metadata": {},
   "source": [
    "#  Describe the difference between descriptive and inferential statistics. Give an example of each type of statistics and explain how they are used.\n"
   ]
  },
  {
   "cell_type": "code",
   "execution_count": 28,
   "id": "471f46f4",
   "metadata": {},
   "outputs": [],
   "source": [
    "#1. Descriptive Statistics: Descriptive statistics is a term given to the analysis of data that helps to describe, show and\n",
    "# summarize data in a meaningful way. It is a simple way to describe our data. Descriptive statistics is very important\n",
    "# to present our raw data ineffective/meaningful way using numerical calculations or graphs or tables. This type of\n",
    "# statistics is applied to already known data. \n",
    "\n",
    "# Exam Scores Suppose you have the following scores of 20 students on an exam:\n",
    "\n",
    "# 85, 90, 75, 92, 88, 79, 83, 95, 87, 91, 78, 86, 89, 94, 82, 80, 84, 93, 88, 81\n",
    "\n",
    "# To calculate descriptive statistics:\n",
    "\n",
    "# Mean: Add up all the scores and divide by the number of scores. Mean = (85 + 90 + 75 + 92 + 88 + 79 + 83 + 95 + 87 + 91 +\n",
    "# 78 + 86 + 89 + 94 + 82 + 80 + 84 + 93 + 88 + 81) / 20 = 1770 / 20 = 88.5\n",
    "# Median: Arrange the scores in ascending order and find the middle value. Median = 86 (middle value)\n",
    "# Mode: Identify the score(s) that appear(s) most frequently. Mode = 88\n",
    "# Range: Calculate the difference between the highest and lowest scores. Range = 95 - 75 = 20\n",
    "# Variance: Calculate the average of the squared differences from the mean. Variance = [(85-88.5)^2 + (90-88.5)^2 + ... + \n",
    "#(81-88.5)^2] / 20 = 33.25\n",
    "# Standard Deviation: Take the square root of the variance. Standard Deviation = √33.25 = 5.77\n",
    "\n",
    "#2. Inferential Statistics: In inferential statistics, predictions are made by taking any group of data in which you are \n",
    "# interested. It can be defined as a random sample of data taken from a population to describe and make inferences about the \n",
    "# population. Any group of data that includes all the data you are interested in is known as population. It basically allows \n",
    "# you to make predictions by taking a small sample instead of working on the whole population.\n",
    "\n",
    "# An example of inferential statistics is hypothesis testing, where sample data is used to test a claim or hypothesis about a \n",
    "# population and make conclusions about the population based on the results.\n"
   ]
  },
  {
   "cell_type": "markdown",
   "id": "5b948be0",
   "metadata": {},
   "source": [
    "#  What are some common measures of central tendency and variability used in statistics? Explain how each measure can be used to describe a dataset.\n"
   ]
  },
  {
   "cell_type": "code",
   "execution_count": 29,
   "id": "04ff35bb",
   "metadata": {},
   "outputs": [],
   "source": [
    "# Knowing the center point answers such questions as, “what is the middle score?” or “which student attained the average score?\n",
    "# There are three fundamental statistics that measure the central tendency of data: the mode, median, and mean. All three \n",
    "#provide insights into “the center” of a distribution of data points.\n",
    "\n",
    "# Central tendency and variation are two measures used in statistics to summarize data. Measure of central tendency shows where \n",
    "# the center or middle of the data set is located, whereas measure of variation shows the dispersion among data values.\n",
    "\n",
    "# When you have a symmetrical distribution for continuous data, the mean, median, and mode are equal. In this case, analysts \n",
    "# tend to use the mean because it includes all of the data in the calculations. However, if you have a skewed distribution,\n",
    "# the median is often the best measure of central tendency.\n",
    "\n",
    "# When you have ordinal data, the median or mode is usually the best choice. For categorical data, you must use the mode.\n",
    "\n",
    "# In cases where you are deciding between the mean vs median as the better measure of central tendency, you are also determining\n",
    "# which types of statistical hypothesis tests are appropriate for your data—if that is your ultimate goal. I have written an\n",
    "# article that discusses when to use parametric (mean) and nonparametric (median) hypothesis tests along with the advantages\n",
    "# and disadvantages of each type.\n",
    "\n",
    "# Analysts frequently use measures of central tendency to describe their datasets. Learn how to Analyze Descriptive Statistics \n",
    "# in Excel.\n",
    "\n"
   ]
  },
  {
   "cell_type": "code",
   "execution_count": null,
   "id": "f3bb8b88",
   "metadata": {},
   "outputs": [],
   "source": []
  }
 ],
 "metadata": {
  "kernelspec": {
   "display_name": "Python 3 (ipykernel)",
   "language": "python",
   "name": "python3"
  },
  "language_info": {
   "codemirror_mode": {
    "name": "ipython",
    "version": 3
   },
   "file_extension": ".py",
   "mimetype": "text/x-python",
   "name": "python",
   "nbconvert_exporter": "python",
   "pygments_lexer": "ipython3",
   "version": "3.11.4"
  }
 },
 "nbformat": 4,
 "nbformat_minor": 5
}
